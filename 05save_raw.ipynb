{
 "cells": [
  {
   "cell_type": "code",
   "execution_count": 1,
   "metadata": {
    "collapsed": true,
    "ExecuteTime": {
     "end_time": "2023-06-07T06:57:57.737403100Z",
     "start_time": "2023-06-07T06:57:56.882910600Z"
    }
   },
   "outputs": [],
   "source": [
    "import numpy as np\n",
    "from utils import read_raw, save_raw"
   ]
  },
  {
   "cell_type": "code",
   "execution_count": 2,
   "outputs": [],
   "source": [
    "file_name1 = 'data/hongqi.raw'\n",
    "file_name2 = 'data/huangqi.raw'\n",
    "data1 = read_raw(file_name1)\n",
    "data2 = read_raw(file_name2)\n",
    "data =  np.concatenate((data1, data2), axis=1)"
   ],
   "metadata": {
    "collapsed": false,
    "ExecuteTime": {
     "end_time": "2023-06-07T07:00:28.293695500Z",
     "start_time": "2023-06-07T07:00:27.750020200Z"
    }
   }
  },
  {
   "cell_type": "code",
   "execution_count": 4,
   "outputs": [],
   "source": [
    "save_raw('data/hebing.raw', data)"
   ],
   "metadata": {
    "collapsed": false,
    "ExecuteTime": {
     "end_time": "2023-06-07T07:02:41.590291700Z",
     "start_time": "2023-06-07T07:02:40.871982Z"
    }
   }
  },
  {
   "cell_type": "code",
   "execution_count": null,
   "outputs": [],
   "source": [],
   "metadata": {
    "collapsed": false
   }
  }
 ],
 "metadata": {
  "kernelspec": {
   "display_name": "Python 3",
   "language": "python",
   "name": "python3"
  },
  "language_info": {
   "codemirror_mode": {
    "name": "ipython",
    "version": 2
   },
   "file_extension": ".py",
   "mimetype": "text/x-python",
   "name": "python",
   "nbconvert_exporter": "python",
   "pygments_lexer": "ipython2",
   "version": "2.7.6"
  }
 },
 "nbformat": 4,
 "nbformat_minor": 0
}
