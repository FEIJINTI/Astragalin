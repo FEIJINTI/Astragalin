{
 "cells": [
  {
   "cell_type": "code",
   "execution_count": 18,
   "metadata": {
    "collapsed": true,
    "ExecuteTime": {
     "end_time": "2023-06-14T03:29:12.097429Z",
     "start_time": "2023-06-14T03:29:12.085461900Z"
    }
   },
   "outputs": [],
   "source": [
    "import numpy as np\n",
    "from utils import read_raw, read_rgb, read_data, read_envi_ascii\n",
    "import matplotlib.pyplot as plt\n",
    "from imblearn.under_sampling import RandomUnderSampler\n",
    "from sklearn.model_selection import train_test_split\n",
    "from machine_learning import DecisionTree, svm_classifier, RandomForest, AdaBoost, GradientBoosting, XGBoost, MLP, predict\n",
    "import cv2"
   ]
  },
  {
   "cell_type": "code",
   "execution_count": 19,
   "metadata": {
    "collapsed": false,
    "ExecuteTime": {
     "end_time": "2023-06-14T03:29:12.485390Z",
     "start_time": "2023-06-14T03:29:12.092442900Z"
    }
   },
   "outputs": [],
   "source": [
    "data = read_envi_ascii('data/biaotu.txt')\n",
    "huangqi = data['huangqi'][:,:40]\n",
    "zazhi1 = data['zazhi1'][:,:40]\n",
    "zazhi2 = data['zazhi2'][:,:40]\n",
    "beijing = data['beijing'][:,:40]\n",
    "gancaopian = data['gancaopian'][:,:40]\n",
    "hongqi = data['hongqi'][:,:40]\n",
    "huangqi_y = np.ones(huangqi.shape[0]) * 3\n",
    "zazhi1_y = np.ones(zazhi1.shape[0]) * 1\n",
    "zazhi2_y = np.ones(zazhi2.shape[0]) * 2\n",
    "beijing_y = np.ones(beijing.shape[0]) * 0\n",
    "gancaopian_y = np.ones(gancaopian.shape[0]) * 4\n",
    "hongqi_y = np.ones(hongqi.shape[0]) * 5"
   ]
  },
  {
   "cell_type": "code",
   "execution_count": 20,
   "metadata": {
    "collapsed": false,
    "ExecuteTime": {
     "end_time": "2023-06-14T03:29:12.488383300Z",
     "start_time": "2023-06-14T03:29:12.486388400Z"
    }
   },
   "outputs": [],
   "source": [
    "data_x = np.concatenate((beijing, huangqi, zazhi1, zazhi2, gancaopian, hongqi), axis=0)\n",
    "data_y = np.concatenate((beijing_y, huangqi_y, zazhi1_y, zazhi2_y, gancaopian_y, hongqi_y), axis=0)"
   ]
  },
  {
   "cell_type": "code",
   "execution_count": 21,
   "metadata": {
    "collapsed": false,
    "ExecuteTime": {
     "end_time": "2023-06-14T03:29:12.490378500Z",
     "start_time": "2023-06-14T03:29:12.486388400Z"
    }
   },
   "outputs": [],
   "source": [
    "from sklearn.model_selection import train_test_split\n",
    "\n",
    "train_x, test_x, train_y, test_y = train_test_split(data_x ,data_y, test_size=0.3, stratify=data_y)"
   ]
  },
  {
   "cell_type": "code",
   "execution_count": 22,
   "metadata": {
    "collapsed": false,
    "ExecuteTime": {
     "end_time": "2023-06-14T03:29:12.556202700Z",
     "start_time": "2023-06-14T03:29:12.493368500Z"
    }
   },
   "outputs": [
    {
     "name": "stdout",
     "output_type": "stream",
     "text": [
      "预测时间： 0.0\n",
      "DT训练模型评分：1.0\n",
      "DT待测模型评分：0.8264887063655031\n",
      "DT预测结果：[5. 0. 4. 3. 0. 2. 3. 1. 2. 4. 1. 0. 1. 2. 4. 1. 5. 2. 4. 4. 3. 4. 0. 5.\n",
      " 4. 4. 2. 2. 1. 0. 5. 2. 2. 1. 3. 2. 0. 5. 0. 0. 0. 3. 3. 4. 1. 2. 5. 2.\n",
      " 5. 3. 4. 0. 5. 2. 2. 0. 5. 0. 5. 3. 5. 1. 3. 1. 1. 3. 1. 4. 4. 5. 5. 3.\n",
      " 5. 3. 5. 0. 4. 1. 3. 4. 5. 5. 4. 0. 0. 5. 3. 5. 5. 3. 2. 2. 5. 3. 3. 1.\n",
      " 1. 4. 0. 2. 4. 1. 2. 4. 0. 5. 3. 4. 3. 5. 1. 5. 1. 5. 0. 3. 4. 0. 5. 4.\n",
      " 1. 2. 2. 5. 4. 4. 2. 0. 3. 2. 0. 0. 5. 5. 4. 5. 1. 3. 2. 1. 2. 0. 1. 4.\n",
      " 1. 1. 2. 0. 0. 0. 1. 4. 3. 3. 5. 4. 0. 2. 3. 3. 5. 3. 1. 3. 3. 0. 1. 2.\n",
      " 3. 1. 2. 1. 5. 3. 0. 5. 0. 4. 4. 2. 2. 3. 5. 4. 4. 1. 0. 3. 2. 2. 2. 4.\n",
      " 5. 2. 2. 4. 3. 0. 1. 1. 3. 4. 3. 5. 2. 3. 5. 3. 2. 0. 5. 0. 1. 3. 2. 5.\n",
      " 3. 0. 1. 0. 1. 5. 4. 0. 1. 2. 5. 3. 5. 5. 0. 1. 0. 1. 4. 4. 4. 3. 1. 2.\n",
      " 3. 1. 3. 0. 2. 0. 5. 5. 1. 3. 0. 5. 0. 0. 0. 2. 5. 2. 0. 0. 2. 4. 4. 0.\n",
      " 0. 3. 4. 3. 2. 1. 3. 2. 0. 1. 4. 3. 1. 1. 3. 4. 4. 2. 1. 4. 3. 3. 5. 5.\n",
      " 2. 4. 0. 4. 1. 0. 3. 1. 4. 1. 2. 0. 5. 1. 0. 0. 5. 5. 2. 1. 2. 0. 2. 2.\n",
      " 1. 5. 0. 2. 5. 2. 0. 4. 0. 1. 5. 5. 1. 5. 5. 0. 1. 5. 3. 3. 5. 0. 5. 3.\n",
      " 3. 1. 4. 4. 2. 4. 4. 4. 4. 0. 2. 3. 2. 3. 5. 5. 3. 3. 0. 5. 4. 2. 2. 5.\n",
      " 4. 1. 4. 4. 4. 3. 0. 5. 3. 2. 0. 2. 4. 1. 2. 5. 4. 4. 4. 4. 5. 1. 5. 2.\n",
      " 1. 3. 1. 3. 2. 2. 0. 5. 3. 0. 0. 5. 0. 1. 3. 1. 2. 2. 2. 1. 5. 4. 5. 1.\n",
      " 1. 4. 1. 3. 4. 5. 4. 1. 3. 3. 3. 4. 5. 2. 4. 5. 1. 3. 5. 0. 1. 3. 5. 3.\n",
      " 5. 4. 3. 0. 5. 0. 5. 5. 1. 4. 2. 0. 3. 0. 1. 4. 5. 5. 5. 2. 1. 0. 3. 1.\n",
      " 5. 5. 3. 2. 1. 2. 1. 5. 0. 3. 0. 2. 0. 4. 4. 2. 0. 2. 5. 4. 3. 4. 2. 5.\n",
      " 3. 0. 3. 2. 5. 2. 3. 0. 0. 3. 5. 2. 5. 2. 2. 3. 3. 0. 5. 3. 0. 0. 2. 1.\n",
      " 4. 5. 1. 3. 2. 0. 5. 2. 3. 2. 0. 5. 2. 1. 1. 4. 5. 4. 3. 1. 2. 5. 4. 2.\n",
      " 2. 3. 0. 4. 2. 2. 0. 0. 4. 5. 0. 1. 0. 3. 5. 3. 0. 3. 3. 4. 1. 2. 1. 5.\n",
      " 1. 0. 4. 1. 2. 1. 5. 5. 3. 0. 5. 5. 0. 3. 0. 0. 2. 4. 1. 2. 5. 1. 2. 5.\n",
      " 0. 4. 1. 4. 3. 2. 3. 2. 0. 4. 0. 3. 4. 0. 5. 0. 3. 0. 4. 1. 4. 3. 1. 2.\n",
      " 0. 4. 3. 1. 2. 3. 1. 0. 0. 4. 0. 1. 1. 4. 2. 5. 1. 3. 3. 4. 2. 3. 4. 0.\n",
      " 1. 4. 2. 1. 1. 3. 0. 1. 5. 5. 0. 5. 1. 0. 2. 1. 1. 1. 2. 0. 0. 0. 5. 4.\n",
      " 4. 1. 5. 1. 3. 5. 3. 4. 5. 3. 2. 2. 2. 3. 4. 2. 1. 3. 2. 2. 1. 1. 1. 1.\n",
      " 5. 2. 0. 1. 5. 2. 0. 4. 4. 3. 5. 1. 4. 1. 4. 0. 4. 1. 3. 3. 1. 3. 5. 4.\n",
      " 3. 0. 4. 3. 0. 0. 5. 3. 0. 5. 3. 2. 5. 0. 2. 2. 0. 3. 0. 2. 3. 3. 3. 1.\n",
      " 0. 3. 2. 2. 4. 5. 3. 1. 0. 1. 2. 2. 5. 5. 1. 0. 5. 1. 3. 5. 3. 1. 1. 0.\n",
      " 2. 5. 4. 5. 5. 5. 3. 4. 3. 4. 0. 2. 0. 2. 1. 2. 3. 4. 0. 5. 0. 2. 5. 4.\n",
      " 2. 0. 0. 3. 2. 3. 3. 2. 2. 0. 5. 5. 4. 5. 1. 3. 1. 2. 3. 1. 0. 4. 4. 2.\n",
      " 3. 4. 3. 4. 2. 4. 5. 1. 0. 2. 2. 1. 1. 4. 4. 3. 3. 0. 0. 0. 1. 0. 3. 3.\n",
      " 2. 3. 3. 3. 1. 3. 2. 1. 0. 0. 1. 2. 2. 0. 1. 1. 2. 1. 3. 2. 0. 0. 4. 2.\n",
      " 3. 5. 0. 2. 0. 3. 2. 4. 0. 1. 5. 1. 3. 4. 5. 4. 1. 5. 5. 4. 5. 4. 4. 1.\n",
      " 1. 3. 1. 1. 3. 3. 2. 4. 5. 0. 2. 5. 2. 3. 4. 2. 4. 4. 0. 5. 0. 4. 2. 5.\n",
      " 4. 0. 4. 0. 2. 1. 4. 2. 5. 1. 4. 0. 4. 5. 3. 1. 5. 0. 3. 4. 1. 4. 4. 5.\n",
      " 3. 2. 5. 1. 5. 2. 2. 2. 4. 4. 4. 1. 2. 2. 3. 5. 0. 4. 1. 4. 1. 2. 5. 5.\n",
      " 0. 5. 3. 1. 1. 0. 4. 5. 3. 4. 4. 4. 3. 0. 2. 1. 3. 5. 5. 4. 2. 3. 0. 2.\n",
      " 5. 5. 1. 5. 5. 5. 3. 4. 1. 2. 5. 1. 3. 0.]\n",
      "---------------------------------------------------------------------------------------------------\n",
      "DT分类报告：              precision    recall  f1-score   support\n",
      "\n",
      "         0.0       1.00      1.00      1.00       163\n",
      "         1.0       0.97      0.96      0.97       161\n",
      "         2.0       0.99      1.00      0.99       161\n",
      "         3.0       0.64      0.65      0.64       163\n",
      "         4.0       0.70      0.66      0.68       164\n",
      "         5.0       0.66      0.69      0.68       162\n",
      "\n",
      "    accuracy                           0.83       974\n",
      "   macro avg       0.83      0.83      0.83       974\n",
      "weighted avg       0.83      0.83      0.83       974\n",
      "\n",
      "DT混淆矩阵：[[163   0   0   0   0   0]\n",
      " [  0 154   0   0   0   7]\n",
      " [  0   0 161   0   0   0]\n",
      " [  0   0   0 106  32  25]\n",
      " [  0   0   0  30 109  25]\n",
      " [  0   4   2  30  14 112]]\n"
     ]
    }
   ],
   "source": [
    "file_name = 'models/dt.p'\n",
    "DecisionTree(train_x, train_y,test_x, test_y, file_name)"
   ]
  },
  {
   "cell_type": "code",
   "execution_count": 23,
   "metadata": {
    "collapsed": false,
    "ExecuteTime": {
     "end_time": "2023-06-14T03:29:12.559193Z",
     "start_time": "2023-06-14T03:29:12.556202700Z"
    }
   },
   "outputs": [],
   "source": [
    "max_value = np.max(beijing, axis=0)\n",
    "min_value = np.min(beijing, axis=0)"
   ]
  },
  {
   "cell_type": "code",
   "execution_count": 24,
   "metadata": {
    "collapsed": false,
    "ExecuteTime": {
     "end_time": "2023-06-14T03:29:12.695827600Z",
     "start_time": "2023-06-14T03:29:12.560191300Z"
    }
   },
   "outputs": [],
   "source": [
    "bands = np.arange(0, 40)\n",
    "data = read_raw('data/newrawfile_ref.raw', shape=(750, 288, 384), setect_bands=bands)"
   ]
  },
  {
   "cell_type": "code",
   "execution_count": 25,
   "metadata": {
    "collapsed": false,
    "ExecuteTime": {
     "end_time": "2023-06-14T03:29:12.699816600Z",
     "start_time": "2023-06-14T03:29:12.696824800Z"
    }
   },
   "outputs": [],
   "source": [
    "# 建立一个和data一样长和款大小的全1矩阵\n",
    "data_o = np.ones((data.shape[0], data.shape[1]))"
   ]
  },
  {
   "cell_type": "code",
   "execution_count": 26,
   "metadata": {
    "collapsed": false,
    "ExecuteTime": {
     "end_time": "2023-06-14T03:29:12.709791200Z",
     "start_time": "2023-06-14T03:29:12.700813700Z"
    }
   },
   "outputs": [],
   "source": [
    "# 将data中满足条件的位置赋值为0， 条件为data中的[:, :, 2] 小于 0.15，大于0.015，且data中的[:, :, 8] 小于0.15，大于0.02\n",
    "data_o[(data[:, :, 2] < 0.15) & (data[:, :, 2] > 0.015) & (data[:, :, 8] < 0.15) & (data[:, :, 8] > 0.02)] = 0"
   ]
  },
  {
   "cell_type": "code",
   "execution_count": 27,
   "metadata": {
    "collapsed": false,
    "ExecuteTime": {
     "end_time": "2023-06-14T03:29:12.732728200Z",
     "start_time": "2023-06-14T03:29:12.710788500Z"
    }
   },
   "outputs": [],
   "source": [
    "# 将data_o中的值为1的位置的data按顺序取出\n",
    "data_x = data[data_o == 1]"
   ]
  },
  {
   "cell_type": "code",
   "execution_count": 28,
   "metadata": {
    "collapsed": false,
    "ExecuteTime": {
     "end_time": "2023-06-14T03:29:12.742702200Z",
     "start_time": "2023-06-14T03:29:12.724749600Z"
    }
   },
   "outputs": [
    {
     "name": "stdout",
     "output_type": "stream",
     "text": [
      "预测时间： 0.011968851089477539\n"
     ]
    }
   ],
   "source": [
    "data_y = predict(data_x, 'models/dt.p')"
   ]
  },
  {
   "cell_type": "code",
   "execution_count": 29,
   "metadata": {
    "collapsed": false,
    "ExecuteTime": {
     "end_time": "2023-06-14T03:29:12.747688300Z",
     "start_time": "2023-06-14T03:29:12.742702200Z"
    }
   },
   "outputs": [],
   "source": [
    "# 将data_y按顺序填到data_o中值为1的位置\n",
    "data_o[data_o == 1] = data_y"
   ]
  },
  {
   "cell_type": "code",
   "execution_count": 30,
   "metadata": {
    "collapsed": false,
    "ExecuteTime": {
     "end_time": "2023-06-14T03:29:12.753672500Z",
     "start_time": "2023-06-14T03:29:12.747688300Z"
    }
   },
   "outputs": [],
   "source": [
    "data_o = data_o.reshape((data.shape[0], data.shape[1])).astype(np.uint8)"
   ]
  },
  {
   "cell_type": "code",
   "execution_count": 31,
   "outputs": [],
   "source": [
    "# 自适应中值滤波\n",
    "def adaptive_median_filter(img, max_size):\n",
    "    # 定义滤波器的初始大小\n",
    "    size = 3\n",
    "    # 复制输入图像\n",
    "    filtered = np.copy(img)\n",
    "    # 获取图像的行数和列数\n",
    "    rows, cols = img.shape[:2]\n",
    "    # 遍历图像的每一个像素\n",
    "    for i in range(rows):\n",
    "        for j in range(cols):\n",
    "            # 获取当前像素的邻域\n",
    "            neighborhood = img[max(0, i-size):min(rows, i+size+1), max(0, j-size):min(cols, j+size+1)]\n",
    "            # 计算邻域的中值\n",
    "            median = np.median(neighborhood)\n",
    "            # 如果当前像素的值不在邻域的最小值和最大值之间，则扩大滤波器的大小\n",
    "            if img[i, j] < np.min(neighborhood) or img[i, j] > np.max(neighborhood):\n",
    "                size += 2\n",
    "                # 如果滤波器的大小超过了最大值，则停止滤波\n",
    "                if size > max_size:\n",
    "                    return filtered\n",
    "                # 重新计算邻域和中值\n",
    "                neighborhood = img[max(0, i-size):min(rows, i+size+1), max(0, j-size):min(cols, j+size+1)]\n",
    "                median = np.median(neighborhood)\n",
    "            # 将当前像素的值设置为邻域的中值\n",
    "            filtered[i, j] = median\n",
    "    return filtered\n",
    "data_o = adaptive_median_filter(data_o, 10)"
   ],
   "metadata": {
    "collapsed": false,
    "ExecuteTime": {
     "end_time": "2023-06-14T03:29:21.417494700Z",
     "start_time": "2023-06-14T03:29:12.760655500Z"
    }
   }
  },
  {
   "cell_type": "code",
   "execution_count": 32,
   "metadata": {
    "collapsed": false,
    "ExecuteTime": {
     "end_time": "2023-06-14T03:29:21.422482Z",
     "start_time": "2023-06-14T03:29:21.418492800Z"
    }
   },
   "outputs": [],
   "source": [
    "# # 连通域分析\n",
    "# from scipy import ndimage\n",
    "# labels, num_features = ndimage.label(data_o)\n",
    "# for i in range(1, num_features + 1):\n",
    "#     mask = (labels == i)\n",
    "#     counts = np.bincount(data_o[mask])\n",
    "#     max_class = np.argmax(counts)\n",
    "#     data_o[mask] = max_class"
   ]
  },
  {
   "cell_type": "code",
   "execution_count": 33,
   "outputs": [],
   "source": [
    "result = data_o\n",
    "pre_pic_colored = np.zeros((result.shape[0], result.shape[1], 3), dtype=np.uint8)\n",
    "\n",
    "pre_pic_colored[result == 0] = [0, 0, 0]\n",
    "pre_pic_colored[result == 1] = [255, 0, 0]\n",
    "pre_pic_colored[result == 2] = [0, 255, 0]\n",
    "pre_pic_colored[result == 3] = [0, 0, 255]\n",
    "pre_pic_colored[result == 4] = [255, 255, 0]\n",
    "pre_pic_colored[result == 5] = [255, 0, 255]"
   ],
   "metadata": {
    "collapsed": false,
    "ExecuteTime": {
     "end_time": "2023-06-14T03:29:21.436444100Z",
     "start_time": "2023-06-14T03:29:21.425474100Z"
    }
   }
  },
  {
   "cell_type": "code",
   "execution_count": 34,
   "metadata": {
    "collapsed": false,
    "ExecuteTime": {
     "end_time": "2023-06-14T03:29:21.599010500Z",
     "start_time": "2023-06-14T03:29:21.437442100Z"
    }
   },
   "outputs": [
    {
     "data": {
      "text/plain": "<Figure size 640x480 with 1 Axes>",
      "image/png": "[encoded data removed]"
     },
     "metadata": {},
     "output_type": "display_data"
    }
   ],
   "source": [
    "plt.imshow(pre_pic_colored)\n",
    "plt.savefig('1.png')"
   ]
  },
  {
   "cell_type": "code",
   "execution_count": 34,
   "metadata": {
    "collapsed": false,
    "ExecuteTime": {
     "end_time": "2023-06-14T03:29:21.602998700Z",
     "start_time": "2023-06-14T03:29:21.600007Z"
    }
   },
   "outputs": [],
   "source": []
  }
 ],
 "metadata": {
  "kernelspec": {
   "display_name": "Python 3",
   "language": "python",
   "name": "python3"
  },
  "language_info": {
   "codemirror_mode": {
    "name": "ipython",
    "version": 2
   },
   "file_extension": ".py",
   "mimetype": "text/x-python",
   "name": "python",
   "nbconvert_exporter": "python",
   "pygments_lexer": "ipython2",
   "version": "2.7.6"
  }
 },
 "nbformat": 4,
 "nbformat_minor": 0
}
