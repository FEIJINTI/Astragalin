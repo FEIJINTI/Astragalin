{
 "cells": [
  {
   "cell_type": "code",
   "execution_count": 44,
   "metadata": {
    "collapsed": true,
    "ExecuteTime": {
     "end_time": "2023-06-14T08:30:36.499095200Z",
     "start_time": "2023-06-14T08:30:36.468178300Z"
    }
   },
   "outputs": [],
   "source": [
    "from sklearn.datasets import make_classification\n",
    "from sklearn.feature_selection import SelectKBest\n",
    "from sklearn.feature_selection import chi2\n",
    "import numpy as np\n",
    "from utils import read_raw, read_rgb, read_data, read_envi_ascii\n",
    "import matplotlib.pyplot as plt\n",
    "from imblearn.under_sampling import RandomUnderSampler\n",
    "from sklearn.model_selection import train_test_split\n",
    "from machine_learning import DecisionTree, svm_classifier, RandomForest, AdaBoost, GradientBoosting, XGBoost, MLP, predict\n",
    "import cv2"
   ]
  },
  {
   "cell_type": "code",
   "execution_count": 45,
   "outputs": [],
   "source": [
    "data = read_envi_ascii('data/sanfenlei.txt')\n",
    "huangqi = data['huangqi'][:, : 110]\n",
    "gancaopian = data['gancaopian'][:, : 110]\n",
    "beijing = data['beijing'][:, : 110]"
   ],
   "metadata": {
    "collapsed": false,
    "ExecuteTime": {
     "end_time": "2023-06-14T08:30:41.367346800Z",
     "start_time": "2023-06-14T08:30:36.474163100Z"
    }
   }
  },
  {
   "cell_type": "code",
   "execution_count": 46,
   "outputs": [],
   "source": [
    "huangqi_y = np.ones(huangqi.shape[0])\n",
    "gancaopian_y = np.ones(gancaopian.shape[0]) * 2\n",
    "beijing_y = np.zeros(beijing.shape[0])"
   ],
   "metadata": {
    "collapsed": false,
    "ExecuteTime": {
     "end_time": "2023-06-14T08:30:41.372573300Z",
     "start_time": "2023-06-14T08:30:41.369478200Z"
    }
   }
  },
  {
   "cell_type": "code",
   "execution_count": 47,
   "outputs": [
    {
     "name": "stdout",
     "output_type": "stream",
     "text": [
      "[14 15 16 17 18 19 20 21 22 23]\n"
     ]
    }
   ],
   "source": [
    "data_x = np.concatenate((huangqi, gancaopian, beijing), axis=0)\n",
    "data_y = np.concatenate((huangqi_y, gancaopian_y, beijing_y), axis=0)\n",
    "\n",
    "select = SelectKBest(chi2, k=10)\n",
    "\n",
    "x_new = select.fit_transform(data_x, data_y)\n",
    "\n",
    "selected_features = select.get_support(indices=True)\n",
    "print(selected_features)\n"
   ],
   "metadata": {
    "collapsed": false,
    "ExecuteTime": {
     "end_time": "2023-06-14T08:30:41.410649600Z",
     "start_time": "2023-06-14T08:30:41.374742200Z"
    }
   }
  },
  {
   "cell_type": "code",
   "execution_count": 48,
   "outputs": [],
   "source": [
    "from sklearn.model_selection import train_test_split\n",
    "data_x = data_x[:, selected_features]\n",
    "train_x, test_x, train_y, test_y = train_test_split(data_x ,data_y, test_size=0.3, stratify=data_y)"
   ],
   "metadata": {
    "collapsed": false,
    "ExecuteTime": {
     "end_time": "2023-06-14T08:30:41.411645700Z",
     "start_time": "2023-06-14T08:30:41.401673800Z"
    }
   }
  },
  {
   "cell_type": "code",
   "execution_count": 49,
   "outputs": [
    {
     "name": "stdout",
     "output_type": "stream",
     "text": [
      "预测时间： 0.0\n",
      "DT训练模型评分：1.0\n",
      "DT待测模型评分：0.7474354439334984\n",
      "DT预测结果：[0. 0. 0. ... 0. 0. 0.]\n",
      "---------------------------------------------------------------------------------------------------\n",
      "DT分类报告：              precision    recall  f1-score   support\n",
      "\n",
      "         0.0       1.00      1.00      1.00       951\n",
      "         1.0       0.62      0.60      0.61       938\n",
      "         2.0       0.62      0.64      0.63       938\n",
      "\n",
      "    accuracy                           0.75      2827\n",
      "   macro avg       0.75      0.75      0.75      2827\n",
      "weighted avg       0.75      0.75      0.75      2827\n",
      "\n",
      "DT混淆矩阵：[[951   0   0]\n",
      " [  0 564 374]\n",
      " [  0 340 598]]\n"
     ]
    }
   ],
   "source": [
    "file_name = 'models/dt.p'\n",
    "DecisionTree(train_x, train_y,test_x, test_y, file_name)"
   ],
   "metadata": {
    "collapsed": false,
    "ExecuteTime": {
     "end_time": "2023-06-14T08:30:41.468494100Z",
     "start_time": "2023-06-14T08:30:41.409651Z"
    }
   }
  },
  {
   "cell_type": "code",
   "execution_count": 50,
   "outputs": [],
   "source": [
    "data_x = read_raw('data/newrawfile_ref.raw', shape=(750, 288, 384), setect_bands=selected_features)"
   ],
   "metadata": {
    "collapsed": false,
    "ExecuteTime": {
     "end_time": "2023-06-14T08:30:41.591165400Z",
     "start_time": "2023-06-14T08:30:41.461512900Z"
    }
   }
  },
  {
   "cell_type": "code",
   "execution_count": 51,
   "outputs": [
    {
     "name": "stdout",
     "output_type": "stream",
     "text": [
      "预测时间： 0.014959573745727539\n"
     ]
    }
   ],
   "source": [
    "data_x_shape = data_x.shape\n",
    "data_x = data_x.reshape(-1, data_x.shape[2])\n",
    "data_y = predict(data_x, file_name)"
   ],
   "metadata": {
    "collapsed": false,
    "ExecuteTime": {
     "end_time": "2023-06-14T08:30:41.634064300Z",
     "start_time": "2023-06-14T08:30:41.592162800Z"
    }
   }
  },
  {
   "cell_type": "code",
   "execution_count": 52,
   "outputs": [],
   "source": [
    "data_y = data_y.reshape(data_x_shape[0], data_x_shape[1]).astype(np.uint8)"
   ],
   "metadata": {
    "collapsed": false,
    "ExecuteTime": {
     "end_time": "2023-06-14T08:30:41.650009200Z",
     "start_time": "2023-06-14T08:30:41.614104700Z"
    }
   }
  },
  {
   "cell_type": "code",
   "execution_count": 53,
   "outputs": [],
   "source": [
    "# 连通域分析\n",
    "from scipy import ndimage\n",
    "labels, num_features = ndimage.label(data_y)\n",
    "for i in range(1, num_features + 1):\n",
    "    mask = (labels == i)\n",
    "    counts = np.bincount(data_y[mask])\n",
    "    # 如果2的个数在所有的像素点中占比超过25%，则认为是2，否则认为0和1中最多的是哪个就是哪个\n",
    "    # 如果有count[2]，才进入判断，否则直接认为是0或者1\n",
    "    if len(counts) > 2 and counts[2] / np.sum(counts) > 0.25:\n",
    "        data_y[mask] = 2\n",
    "    else:\n",
    "        data_y[mask] = np.argmax(counts)"
   ],
   "metadata": {
    "collapsed": false,
    "ExecuteTime": {
     "end_time": "2023-06-14T08:30:41.651005400Z",
     "start_time": "2023-06-14T08:30:41.619091100Z"
    }
   }
  },
  {
   "cell_type": "code",
   "execution_count": 55,
   "outputs": [
    {
     "data": {
      "text/plain": "<Figure size 640x480 with 1 Axes>",
      "image/png": "[encoded data removed]"
     },
     "metadata": {},
     "output_type": "display_data"
    }
   ],
   "source": [
    "plt.imshow(data_y)\n",
    "plt.savefig('result.png', dpi=300)"
   ],
   "metadata": {
    "collapsed": false,
    "ExecuteTime": {
     "end_time": "2023-06-14T08:31:37.483926800Z",
     "start_time": "2023-06-14T08:31:37.192166300Z"
    }
   }
  },
  {
   "cell_type": "code",
   "execution_count": 54,
   "outputs": [],
   "source": [],
   "metadata": {
    "collapsed": false,
    "ExecuteTime": {
     "end_time": "2023-06-14T08:30:41.736776400Z",
     "start_time": "2023-06-14T08:30:41.732787200Z"
    }
   }
  }
 ],
 "metadata": {
  "kernelspec": {
   "display_name": "Python 3",
   "language": "python",
   "name": "python3"
  },
  "language_info": {
   "codemirror_mode": {
    "name": "ipython",
    "version": 2
   },
   "file_extension": ".py",
   "mimetype": "text/x-python",
   "name": "python",
   "nbconvert_exporter": "python",
   "pygments_lexer": "ipython2",
   "version": "2.7.6"
  }
 },
 "nbformat": 4,
 "nbformat_minor": 0
}
