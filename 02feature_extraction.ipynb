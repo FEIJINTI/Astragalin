{
 "cells": [
  {
   "cell_type": "code",
   "execution_count": null,
   "metadata": {
    "collapsed": true,
    "pycharm": {
     "is_executing": true
    }
   },
   "outputs": [],
   "source": [
    "import numpy as np\n",
    "from utils import read_envi_ascii, ga_feature_extraction"
   ]
  },
  {
   "cell_type": "code",
   "execution_count": null,
   "outputs": [],
   "source": [
    "Astragalin_data_path = 'data/huangqizazhi.txt'\n",
    "data = read_envi_ascii(Astragalin_data_path)\n",
    "hongqi_data_path = 'data/hongqi.txt'\n",
    "hongqi_data = read_envi_ascii(hongqi_data_path)\n",
    "astragalin = data['huangqi'][:, :126]\n",
    "zazhi1 = data['zazhi1'][:, :126]\n",
    "zazhi2 = data['zazhi2'][:, :126]\n",
    "background = data['background'][:, :126]\n",
    "gancaopian = hongqi_data['gancaopian'][:, :126]\n",
    "hongqi = hongqi_data['hongqi'][:, :126]\n",
    "# 读取谱段信息\n",
    "bands_file_path = 'data/Camera2_ref.txt'\n",
    "with open(bands_file_path, 'rb') as f:\n",
    "    bands = []\n",
    "    for k in f:\n",
    "        a = float(k[:-3])\n",
    "        bands.append(a)\n",
    "    bands = np.array(bands)\n",
    "bands = bands[:126]\n",
    "astragalin_y = np.ones(astragalin.shape[0]) * 0\n",
    "zazhi1_y = np.ones(zazhi1.shape[0]) * 1\n",
    "zazhi2_y = np.ones(zazhi2.shape[0]) * 2\n",
    "background_y = np.ones(background.shape[0]) * 3\n",
    "gancaopian_y = np.ones(gancaopian.shape[0]) * 4\n",
    "hongqi_y = np.ones(hongqi.shape[0]) * 5\n",
    "data_x = np.concatenate((astragalin, gancaopian, hongqi), axis=0)\n",
    "data_y = np.concatenate((astragalin_y, gancaopian_y, hongqi_y), axis=0)"
   ],
   "metadata": {
    "collapsed": false,
    "pycharm": {
     "is_executing": true
    }
   }
  },
  {
   "cell_type": "code",
   "execution_count": null,
   "outputs": [],
   "source": [
    "ga_feature_extraction(data_x, data_y)"
   ],
   "metadata": {
    "collapsed": false,
    "pycharm": {
     "is_executing": true
    }
   }
  },
  {
   "cell_type": "code",
   "execution_count": null,
   "outputs": [],
   "source": [],
   "metadata": {
    "collapsed": false,
    "pycharm": {
     "is_executing": true
    }
   }
  }
 ],
 "metadata": {
  "kernelspec": {
   "display_name": "Python 3",
   "language": "python",
   "name": "python3"
  },
  "language_info": {
   "codemirror_mode": {
    "name": "ipython",
    "version": 2
   },
   "file_extension": ".py",
   "mimetype": "text/x-python",
   "name": "python",
   "nbconvert_exporter": "python",
   "pygments_lexer": "ipython2",
   "version": "2.7.6"
  }
 },
 "nbformat": 4,
 "nbformat_minor": 0
}
