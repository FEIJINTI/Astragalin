{
 "cells": [
  {
   "cell_type": "code",
   "execution_count": 1,
   "metadata": {
    "collapsed": true,
    "pycharm": {
     "is_executing": true
    },
    "ExecuteTime": {
     "end_time": "2023-06-07T11:13:01.757320100Z",
     "start_time": "2023-06-07T11:13:00.970422900Z"
    }
   },
   "outputs": [],
   "source": [
    "import numpy as np\n",
    "from utils import read_envi_ascii, ga_feature_extraction"
   ]
  },
  {
   "cell_type": "code",
   "execution_count": 3,
   "outputs": [],
   "source": [
    "Astragalin_data_path = 'data/huangqizazhi.txt'\n",
    "data = read_envi_ascii(Astragalin_data_path)\n",
    "hongqi_data_path = 'data/hongqi.txt'\n",
    "hongqi_data = read_envi_ascii(hongqi_data_path)\n",
    "astragalin = data['huangqi'][:, :126]\n",
    "zazhi1 = data['zazhi1'][:, :126]\n",
    "zazhi2 = data['zazhi2'][:, :126]\n",
    "background = data['background'][:, :126]\n",
    "gancaopian = hongqi_data['gancaopian'][:, :126]\n",
    "hongqi = hongqi_data['hongqi'][:, :126]\n",
    "# 读取谱段信息\n",
    "bands_file_path = 'data/Camera2_ref.txt'\n",
    "with open(bands_file_path, 'rb') as f:\n",
    "    bands = []\n",
    "    for k in f:\n",
    "        a = float(k[:-3])\n",
    "        bands.append(a)\n",
    "    bands = np.array(bands)\n",
    "bands = bands[:126]\n",
    "astragalin_y = np.ones(astragalin.shape[0]) * 0\n",
    "zazhi1_y = np.ones(zazhi1.shape[0]) * 1\n",
    "zazhi2_y = np.ones(zazhi2.shape[0]) * 2\n",
    "background_y = np.ones(background.shape[0]) * 3\n",
    "gancaopian_y = np.ones(gancaopian.shape[0]) * 4\n",
    "hongqi_y = np.ones(hongqi.shape[0]) * 5\n",
    "data_x = np.concatenate((astragalin, gancaopian, hongqi), axis=0)\n",
    "data_y = np.concatenate((astragalin_y, gancaopian_y, hongqi_y), axis=0)"
   ],
   "metadata": {
    "collapsed": false,
    "pycharm": {
     "is_executing": true
    },
    "ExecuteTime": {
     "end_time": "2023-06-07T11:13:23.850651700Z",
     "start_time": "2023-06-07T11:13:19.369292600Z"
    }
   }
  },
  {
   "cell_type": "code",
   "execution_count": null,
   "outputs": [
    {
     "name": "stdout",
     "output_type": "stream",
     "text": [
      "Selecting features with genetic algorithm.\n",
      "gen\tnevals\tavg                            \tstd                            \tmin                            \tmax                            \n",
      "0  \t200   \t[ 0.525844  3.935     0.029931]\t[ 0.07765   2.017616  0.005372]\t[ 0.385728  1.        0.015683]\t[ 0.653217  7.        0.045949]\n",
      "1  \t118   \t[-2599.567314     6.825     2600.021833]\t[ 4386.598914     3.058492  4386.329498]\t[-10000.            2.            0.019205]\t[     0.662318     17.        10000.      ]\n",
      "2  \t134   \t[-2949.580793     7.09      2950.020552]\t[ 4560.698783     3.008638  4560.414317]\t[-10000.            2.            0.019718]\t[     0.666252     18.        10000.      ]\n",
      "3  \t123   \t[-2599.550919     7.02      2600.021702]\t[ 4386.608633     2.677611  4386.329576]\t[-10000.            2.            0.017213]\t[     0.668529     18.        10000.      ]\n",
      "4  \t129   \t[-2849.564448     7.175     2850.021153]\t[ 4514.419422     2.892123  4514.131082]\t[-10000.            2.            0.015976]\t[     0.669553     17.        10000.      ]\n"
     ]
    }
   ],
   "source": [
    "ga_feature_extraction(data_x, data_y)"
   ],
   "metadata": {
    "collapsed": false,
    "pycharm": {
     "is_executing": true
    },
    "is_executing": true,
    "ExecuteTime": {
     "start_time": "2023-06-07T11:13:25.099413500Z"
    }
   }
  },
  {
   "cell_type": "code",
   "execution_count": null,
   "outputs": [],
   "source": [],
   "metadata": {
    "collapsed": false,
    "pycharm": {
     "is_executing": true
    }
   }
  }
 ],
 "metadata": {
  "kernelspec": {
   "display_name": "Python 3",
   "language": "python",
   "name": "python3"
  },
  "language_info": {
   "codemirror_mode": {
    "name": "ipython",
    "version": 2
   },
   "file_extension": ".py",
   "mimetype": "text/x-python",
   "name": "python",
   "nbconvert_exporter": "python",
   "pygments_lexer": "ipython2",
   "version": "2.7.6"
  }
 },
 "nbformat": 4,
 "nbformat_minor": 0
}
