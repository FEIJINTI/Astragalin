{
 "cells": [
  {
   "cell_type": "code",
   "execution_count": 1,
   "metadata": {
    "collapsed": true
   },
   "outputs": [],
   "source": [
    "from utils import read_envi_ascii\n",
    "import numpy as np\n",
    "from sklearn.model_selection import train_test_split\n",
    "from machine_learning import DecisionTree"
   ]
  },
  {
   "cell_type": "code",
   "execution_count": 2,
   "outputs": [],
   "source": [
    "Astragalin_data_path = 'data/huangqizazhi.txt'\n",
    "data = read_envi_ascii(Astragalin_data_path)\n",
    "hongqi_data_path = 'data/hongqi.txt'\n",
    "hongqi_data = read_envi_ascii(hongqi_data_path)"
   ],
   "metadata": {
    "collapsed": false
   }
  },
  {
   "cell_type": "code",
   "execution_count": 3,
   "outputs": [],
   "source": [
    "astragalin = data['huangqi'][:,:126]\n",
    "zazhi1 = data['zazhi1'][:,:126]\n",
    "zazhi2 = data['zazhi2'][:,:126]\n",
    "background = data['background'][:,:126]\n",
    "gancaopian = hongqi_data['gancaopian'][:,:126]\n",
    "hongqi = hongqi_data['hongqi'][:,:126]"
   ],
   "metadata": {
    "collapsed": false
   }
  },
  {
   "cell_type": "code",
   "execution_count": 4,
   "outputs": [],
   "source": [
    "# 读取谱段信息\n",
    "bands_file_path = 'data/Camera2_ref.txt'\n",
    "with open(bands_file_path, 'rb') as f:\n",
    "    bands = []\n",
    "    for k in f:\n",
    "        a = float(k[:-3])\n",
    "        bands.append(a)\n",
    "    bands = np.array(bands)"
   ],
   "metadata": {
    "collapsed": false
   }
  },
  {
   "cell_type": "code",
   "execution_count": 5,
   "outputs": [],
   "source": [
    "bands = bands[:126]"
   ],
   "metadata": {
    "collapsed": false
   }
  },
  {
   "cell_type": "code",
   "execution_count": 6,
   "outputs": [],
   "source": [
    "astragalin_y = np.ones(astragalin.shape[0]) * 0\n",
    "zazhi1_y = np.ones(zazhi1.shape[0]) * 1\n",
    "zazhi2_y = np.ones(zazhi2.shape[0]) * 2\n",
    "background_y = np.ones(background.shape[0]) * 3\n",
    "gancaopian_y = np.ones(gancaopian.shape[0]) * 4\n",
    "hongqi_y = np.ones(hongqi.shape[0]) * 5"
   ],
   "metadata": {
    "collapsed": false
   }
  },
  {
   "cell_type": "code",
   "execution_count": 7,
   "outputs": [],
   "source": [
    "data_x = np.concatenate((astragalin,zazhi1,zazhi2,background,gancaopian,hongqi),axis = 0)\n",
    "data_y = np.concatenate((astragalin_y,zazhi1_y,zazhi2_y,background_y,gancaopian_y,hongqi_y),axis=0)"
   ],
   "metadata": {
    "collapsed": false
   }
  },
  {
   "cell_type": "code",
   "execution_count": 9,
   "outputs": [],
   "source": [
    "train_x, test_x, train_y, test_y = train_test_split(data_x ,data_y, test_size=0.3, stratify=data_y)"
   ],
   "metadata": {
    "collapsed": false
   }
  },
  {
   "cell_type": "markdown",
   "source": [],
   "metadata": {
    "collapsed": false
   }
  },
  {
   "cell_type": "code",
   "execution_count": 10,
   "outputs": [
    {
     "name": "stdout",
     "output_type": "stream",
     "text": [
      "预测时间： 0.009407281875610352\n",
      "DT训练模型评分：1.0\n",
      "DT待测模型评分：0.8107431116059004\n",
      "DT预测结果：[0. 3. 4. ... 0. 4. 4.]\n",
      "---------------------------------------------------------------------------------------------------\n",
      "DT分类报告：              precision    recall  f1-score   support\n",
      "\n",
      "         0.0       0.66      0.65      0.66       615\n",
      "         1.0       0.97      0.98      0.98       301\n",
      "         2.0       1.00      1.00      1.00       617\n",
      "         3.0       1.00      1.00      1.00       604\n",
      "         4.0       0.69      0.68      0.69       735\n",
      "         5.0       0.67      0.69      0.68       721\n",
      "\n",
      "    accuracy                           0.81      3593\n",
      "   macro avg       0.83      0.83      0.83      3593\n",
      "weighted avg       0.81      0.81      0.81      3593\n",
      "\n",
      "DT混淆矩阵：[[400   0   0   0 103 112]\n",
      " [  0 295   1   0   0   5]\n",
      " [  0   2 615   0   0   0]\n",
      " [  0   0   0 604   0   0]\n",
      " [102   0   0   0 503 130]\n",
      " [100   6   0   0 119 496]]\n"
     ]
    }
   ],
   "source": [
    "DecisionTree(train_x, train_y,test_x, test_y)"
   ],
   "metadata": {
    "collapsed": false
   }
  },
  {
   "cell_type": "code",
   "execution_count": null,
   "outputs": [],
   "source": [],
   "metadata": {
    "collapsed": false
   }
  }
 ],
 "metadata": {
  "kernelspec": {
   "display_name": "Python 3",
   "language": "python",
   "name": "python3"
  },
  "language_info": {
   "codemirror_mode": {
    "name": "ipython",
    "version": 2
   },
   "file_extension": ".py",
   "mimetype": "text/x-python",
   "name": "python",
   "nbconvert_exporter": "python",
   "pygments_lexer": "ipython2",
   "version": "2.7.6"
  }
 },
 "nbformat": 4,
 "nbformat_minor": 0
}
