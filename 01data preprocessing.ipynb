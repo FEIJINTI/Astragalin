{
 "cells": [
  {
   "cell_type": "code",
   "execution_count": 1,
   "metadata": {
    "collapsed": true
   },
   "outputs": [],
   "source": [
    "from utils import read_envi_ascii\n",
    "import numpy as np\n",
    "from sklearn.model_selection import train_test_split\n",
    "from machine_learning import DecisionTree"
   ]
  },
  {
   "cell_type": "code",
   "execution_count": 2,
   "outputs": [],
   "source": [
    "Astragalin_data_path = 'data/huangqizazhi.txt'\n",
    "data = read_envi_ascii(Astragalin_data_path)\n",
    "hongqi_data_path = 'data/hongqi.txt'\n",
    "hongqi_data = read_envi_ascii(hongqi_data_path)"
   ],
   "metadata": {
    "collapsed": false
   }
  },
  {
   "cell_type": "code",
   "execution_count": 3,
   "outputs": [],
   "source": [
    "astragalin = data['huangqi']\n",
    "zazhi1 = data['zazhi1']\n",
    "zazhi2 = data['zazhi2']\n",
    "background = data['background']\n",
    "gancaopian = hongqi_data['gancaopian']\n",
    "hongqi = hongqi_data['hongqi']"
   ],
   "metadata": {
    "collapsed": false
   }
  },
  {
   "cell_type": "code",
   "execution_count": 4,
   "outputs": [],
   "source": [
    "# 读取谱段信息\n",
    "bands_file_path = 'data/Camera2_ref.txt'\n",
    "with open(bands_file_path, 'rb') as f:\n",
    "    bands = []\n",
    "    for k in f:\n",
    "        a = float(k[:-3])\n",
    "        bands.append(a)\n",
    "    bands = np.array(bands)"
   ],
   "metadata": {
    "collapsed": false
   }
  },
  {
   "cell_type": "code",
   "execution_count": 5,
   "outputs": [],
   "source": [
    "bands = bands[:126]"
   ],
   "metadata": {
    "collapsed": false
   }
  },
  {
   "cell_type": "code",
   "execution_count": 6,
   "outputs": [],
   "source": [
    "astragalin_y = np.ones(astragalin.shape[0]) * 0\n",
    "zazhi1_y = np.ones(zazhi1.shape[0]) * 1\n",
    "zazhi2_y = np.ones(zazhi2.shape[0]) * 2\n",
    "background_y = np.ones(background.shape[0]) * 3\n",
    "gancaopian_y = np.ones(gancaopian.shape[0]) * 4\n",
    "hongqi_y = np.ones(hongqi.shape[0]) * 5"
   ],
   "metadata": {
    "collapsed": false
   }
  },
  {
   "cell_type": "code",
   "execution_count": 7,
   "outputs": [],
   "source": [
    "data_x = np.concatenate((astragalin,zazhi1,zazhi2,background,gancaopian,hongqi),axis = 0)\n",
    "data_y = np.concatenate((astragalin_y,zazhi1_y,zazhi2_y,background_y,gancaopian_y,hongqi_y),axis=0)"
   ],
   "metadata": {
    "collapsed": false
   }
  },
  {
   "cell_type": "code",
   "execution_count": 8,
   "outputs": [],
   "source": [
    "train_x, test_x, train_y, test_y = train_test_split(data_x ,data_y, test_size=0.3, stratify=data_y)"
   ],
   "metadata": {
    "collapsed": false
   }
  },
  {
   "cell_type": "markdown",
   "source": [],
   "metadata": {
    "collapsed": false
   }
  },
  {
   "cell_type": "code",
   "execution_count": 9,
   "outputs": [
    {
     "name": "stdout",
     "output_type": "stream",
     "text": [
      "预测时间： 0.002992391586303711\n",
      "DT训练模型评分：1.0\n",
      "DT待测模型评分：0.84469802393543\n",
      "DT预测结果：[4. 5. 0. ... 3. 3. 2.]\n",
      "---------------------------------------------------------------------------------------------------\n",
      "DT分类报告：              precision    recall  f1-score   support\n",
      "\n",
      "         0.0       0.76      0.77      0.76       615\n",
      "         1.0       1.00      0.95      0.97       301\n",
      "         2.0       1.00      1.00      1.00       617\n",
      "         3.0       1.00      1.00      1.00       604\n",
      "         4.0       0.75      0.74      0.74       735\n",
      "         5.0       0.70      0.71      0.70       721\n",
      "\n",
      "    accuracy                           0.84      3593\n",
      "   macro avg       0.87      0.86      0.86      3593\n",
      "weighted avg       0.85      0.84      0.85      3593\n",
      "\n",
      "DT混淆矩阵：[[471   0   0   0  62  82]\n",
      " [  0 286   2   0   0  13]\n",
      " [  0   0 617   0   0   0]\n",
      " [  0   0   0 604   0   0]\n",
      " [ 63   0   0   0 543 129]\n",
      " [ 88   0   0   0 119 514]]\n"
     ]
    }
   ],
   "source": [
    "DecisionTree(train_x, train_y,test_x, test_y)"
   ],
   "metadata": {
    "collapsed": false
   }
  },
  {
   "cell_type": "code",
   "execution_count": 9,
   "outputs": [],
   "source": [],
   "metadata": {
    "collapsed": false
   }
  }
 ],
 "metadata": {
  "kernelspec": {
   "display_name": "Python 3",
   "language": "python",
   "name": "python3"
  },
  "language_info": {
   "codemirror_mode": {
    "name": "ipython",
    "version": 2
   },
   "file_extension": ".py",
   "mimetype": "text/x-python",
   "name": "python",
   "nbconvert_exporter": "python",
   "pygments_lexer": "ipython2",
   "version": "2.7.6"
  }
 },
 "nbformat": 4,
 "nbformat_minor": 0
}
