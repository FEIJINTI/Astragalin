{
 "cells": [
  {
   "cell_type": "code",
   "execution_count": 1,
   "metadata": {
    "collapsed": true,
    "ExecuteTime": {
     "end_time": "2023-06-11T09:14:20.841991100Z",
     "start_time": "2023-06-11T09:14:19.613090700Z"
    }
   },
   "outputs": [],
   "source": [
    "from utils import read_envi_ascii\n",
    "import numpy as np\n",
    "from sklearn.model_selection import train_test_split\n",
    "from machine_learning import DecisionTree"
   ]
  },
  {
   "cell_type": "code",
   "execution_count": null,
   "outputs": [],
   "source": [],
   "metadata": {
    "collapsed": false
   }
  },
  {
   "cell_type": "code",
   "execution_count": 2,
   "outputs": [],
   "source": [
    "Astragalin_data_path = 'data/huangqizazhi.txt'\n",
    "data = read_envi_ascii(Astragalin_data_path)\n",
    "hongqi_data_path = 'data/hongqi.txt'\n",
    "hongqi_data = read_envi_ascii(hongqi_data_path)"
   ],
   "metadata": {
    "collapsed": false,
    "ExecuteTime": {
     "end_time": "2023-06-07T11:10:50.232378500Z",
     "start_time": "2023-06-07T11:10:45.640061400Z"
    }
   }
  },
  {
   "cell_type": "code",
   "execution_count": 10,
   "outputs": [],
   "source": [
    "astragalin = data['huangqi'][:,:126]\n",
    "zazhi1 = data['zazhi1'][:,:126]\n",
    "zazhi2 = data['zazhi2'][:,:126]\n",
    "background = data['background'][:,:126]\n",
    "gancaopian = hongqi_data['gancaopian'][:,:126]\n",
    "hongqi = hongqi_data['hongqi'][:,:126]"
   ],
   "metadata": {
    "collapsed": false,
    "ExecuteTime": {
     "end_time": "2023-06-07T11:12:05.318384900Z",
     "start_time": "2023-06-07T11:12:05.312399700Z"
    }
   }
  },
  {
   "cell_type": "code",
   "execution_count": 2,
   "outputs": [],
   "source": [
    "# 读取谱段信息\n",
    "bands_file_path = 'data/Camera2_ref.txt'\n",
    "with open(bands_file_path, 'rb') as f:\n",
    "    bands = []\n",
    "    for k in f:\n",
    "        a = float(k[:-3])\n",
    "        bands.append(a)\n",
    "    bands = np.array(bands)"
   ],
   "metadata": {
    "collapsed": false,
    "ExecuteTime": {
     "end_time": "2023-06-11T09:14:21.817471Z",
     "start_time": "2023-06-11T09:14:21.812484100Z"
    }
   }
  },
  {
   "cell_type": "code",
   "execution_count": 12,
   "outputs": [],
   "source": [
    "bands = bands[:126]"
   ],
   "metadata": {
    "collapsed": false,
    "ExecuteTime": {
     "end_time": "2023-06-07T11:12:07.334037900Z",
     "start_time": "2023-06-07T11:12:07.328544600Z"
    }
   }
  },
  {
   "cell_type": "code",
   "execution_count": 13,
   "outputs": [],
   "source": [
    "astragalin_y = np.ones(astragalin.shape[0]) * 0\n",
    "zazhi1_y = np.ones(zazhi1.shape[0]) * 1\n",
    "zazhi2_y = np.ones(zazhi2.shape[0]) * 2\n",
    "background_y = np.ones(background.shape[0]) * 3\n",
    "gancaopian_y = np.ones(gancaopian.shape[0]) * 4\n",
    "hongqi_y = np.ones(hongqi.shape[0]) * 5"
   ],
   "metadata": {
    "collapsed": false,
    "ExecuteTime": {
     "end_time": "2023-06-07T11:12:08.012131300Z",
     "start_time": "2023-06-07T11:12:08.006147400Z"
    }
   }
  },
  {
   "cell_type": "code",
   "execution_count": 14,
   "outputs": [],
   "source": [
    "data_x = np.concatenate((astragalin,zazhi1,zazhi2,background,gancaopian,hongqi),axis = 0)\n",
    "data_y = np.concatenate((astragalin_y,zazhi1_y,zazhi2_y,background_y,gancaopian_y,hongqi_y),axis=0)"
   ],
   "metadata": {
    "collapsed": false,
    "ExecuteTime": {
     "end_time": "2023-06-07T11:12:09.622490200Z",
     "start_time": "2023-06-07T11:12:09.611519500Z"
    }
   }
  },
  {
   "cell_type": "code",
   "execution_count": 19,
   "outputs": [],
   "source": [
    "bands = [ 12,  33,  76,  78,  94, 114, 116]\n",
    "data_x = data_x[:,bands]"
   ],
   "metadata": {
    "collapsed": false,
    "ExecuteTime": {
     "end_time": "2023-06-07T10:01:52.853847500Z",
     "start_time": "2023-06-07T10:01:52.847863300Z"
    }
   }
  },
  {
   "cell_type": "code",
   "execution_count": 15,
   "outputs": [],
   "source": [
    "train_x, test_x, train_y, test_y = train_test_split(data_x ,data_y, test_size=0.3, stratify=data_y)"
   ],
   "metadata": {
    "collapsed": false,
    "ExecuteTime": {
     "end_time": "2023-06-07T11:12:11.891745500Z",
     "start_time": "2023-06-07T11:12:11.880775700Z"
    }
   }
  },
  {
   "cell_type": "markdown",
   "source": [],
   "metadata": {
    "collapsed": false
   }
  },
  {
   "cell_type": "code",
   "execution_count": 16,
   "outputs": [
    {
     "name": "stdout",
     "output_type": "stream",
     "text": [
      "预测时间： 0.001994609832763672\n",
      "DT训练模型评分：1.0\n",
      "DT待测模型评分：0.8065683273030894\n",
      "DT预测结果：[3. 3. 0. ... 5. 4. 5.]\n",
      "---------------------------------------------------------------------------------------------------\n",
      "DT分类报告：              precision    recall  f1-score   support\n",
      "\n",
      "         0.0       0.67      0.66      0.66       615\n",
      "         1.0       0.97      0.98      0.98       301\n",
      "         2.0       1.00      1.00      1.00       617\n",
      "         3.0       1.00      1.00      1.00       604\n",
      "         4.0       0.67      0.69      0.68       735\n",
      "         5.0       0.67      0.65      0.66       721\n",
      "\n",
      "    accuracy                           0.81      3593\n",
      "   macro avg       0.83      0.83      0.83      3593\n",
      "weighted avg       0.81      0.81      0.81      3593\n",
      "\n",
      "DT混淆矩阵：[[408   0   0   0 107 100]\n",
      " [  0 296   1   0   0   4]\n",
      " [  0   2 614   0   0   1]\n",
      " [  0   0   0 604   0   0]\n",
      " [105   0   0   0 504 126]\n",
      " [100   7   2   0 140 472]]\n"
     ]
    }
   ],
   "source": [
    "file_name = 'models/dt_1.p'\n",
    "DecisionTree(train_x, train_y,test_x, test_y, file_name)"
   ],
   "metadata": {
    "collapsed": false,
    "ExecuteTime": {
     "end_time": "2023-06-07T11:12:13.230586300Z",
     "start_time": "2023-06-07T11:12:12.497227800Z"
    }
   }
  },
  {
   "cell_type": "code",
   "execution_count": 13,
   "outputs": [],
   "source": [],
   "metadata": {
    "collapsed": false
   }
  }
 ],
 "metadata": {
  "kernelspec": {
   "display_name": "Python 3",
   "language": "python",
   "name": "python3"
  },
  "language_info": {
   "codemirror_mode": {
    "name": "ipython",
    "version": 2
   },
   "file_extension": ".py",
   "mimetype": "text/x-python",
   "name": "python",
   "nbconvert_exporter": "python",
   "pygments_lexer": "ipython2",
   "version": "2.7.6"
  }
 },
 "nbformat": 4,
 "nbformat_minor": 0
}
