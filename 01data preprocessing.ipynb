{
 "cells": [
  {
   "cell_type": "code",
   "execution_count": 4,
   "metadata": {
    "collapsed": true
   },
   "outputs": [],
   "source": [
    "from utils import read_envi_ascii\n",
    "import numpy as np\n",
    "from sklearn.model_selection import train_test_split\n",
    "from machine_learning import DecisionTree"
   ]
  },
  {
   "cell_type": "code",
   "execution_count": 5,
   "outputs": [],
   "source": [
    "Astragalin_data_path = 'data/hongqizazhi.txt'\n",
    "data = read_envi_ascii(Astragalin_data_path)\n",
    "hongqi_data_path = 'data/hongqi.txt'\n",
    "hongqi_data = read_envi_ascii(hongqi_data_path)"
   ],
   "metadata": {
    "collapsed": false
   }
  },
  {
   "cell_type": "code",
   "execution_count": 6,
   "outputs": [],
   "source": [
    "astragalin = data['hongqi'][:,:126]\n",
    "zazhi1 = data['zazhi1'][:,:126]\n",
    "zazhi2 = data['zazhi2'][:,:126]\n",
    "background = data['background'][:,:126]\n",
    "gancaopian = hongqi_data['gancaopian'][:,:126]\n",
    "hongqi = hongqi_data['hongqi'][:,:126]"
   ],
   "metadata": {
    "collapsed": false
   }
  },
  {
   "cell_type": "code",
   "execution_count": 7,
   "outputs": [],
   "source": [
    "# 读取谱段信息\n",
    "bands_file_path = 'data/Camera2_ref.txt'\n",
    "with open(bands_file_path, 'rb') as f:\n",
    "    bands = []\n",
    "    for k in f:\n",
    "        a = float(k[:-3])\n",
    "        bands.append(a)\n",
    "    bands = np.array(bands)"
   ],
   "metadata": {
    "collapsed": false
   }
  },
  {
   "cell_type": "code",
   "execution_count": 8,
   "outputs": [],
   "source": [
    "bands = bands[:126]"
   ],
   "metadata": {
    "collapsed": false
   }
  },
  {
   "cell_type": "code",
   "execution_count": 9,
   "outputs": [],
   "source": [
    "astragalin_y = np.ones(astragalin.shape[0]) * 0\n",
    "zazhi1_y = np.ones(zazhi1.shape[0]) * 1\n",
    "zazhi2_y = np.ones(zazhi2.shape[0]) * 2\n",
    "background_y = np.ones(background.shape[0]) * 3\n",
    "gancaopian_y = np.ones(gancaopian.shape[0]) * 4\n",
    "hongqi_y = np.ones(hongqi.shape[0]) * 5"
   ],
   "metadata": {
    "collapsed": false
   }
  },
  {
   "cell_type": "code",
   "execution_count": 10,
   "outputs": [],
   "source": [
    "data_x = np.concatenate((astragalin,zazhi1,zazhi2,background,gancaopian,hongqi),axis = 0)\n",
    "data_y = np.concatenate((astragalin_y,zazhi1_y,zazhi2_y,background_y,gancaopian_y,hongqi_y),axis=0)"
   ],
   "metadata": {
    "collapsed": false
   }
  },
  {
   "cell_type": "code",
   "execution_count": 11,
   "outputs": [],
   "source": [
    "bands = [ 12,  33,  76,  78,  94, 114, 116]\n",
    "data_x = data_x[:,bands]"
   ],
   "metadata": {
    "collapsed": false
   }
  },
  {
   "cell_type": "code",
   "execution_count": 12,
   "outputs": [],
   "source": [
    "train_x, test_x, train_y, test_y = train_test_split(data_x ,data_y, test_size=0.3, stratify=data_y)"
   ],
   "metadata": {
    "collapsed": false
   }
  },
  {
   "cell_type": "markdown",
   "source": [],
   "metadata": {
    "collapsed": false
   }
  },
  {
   "cell_type": "code",
   "execution_count": 13,
   "outputs": [
    {
     "name": "stdout",
     "output_type": "stream",
     "text": [
      "预测时间： 0.0009965896606445312\n",
      "DT训练模型评分：1.0\n",
      "DT待测模型评分：0.8112997495129418\n",
      "DT预测结果：[0. 0. 4. ... 5. 4. 1.]\n",
      "---------------------------------------------------------------------------------------------------\n",
      "DT分类报告：              precision    recall  f1-score   support\n",
      "\n",
      "         0.0       0.64      0.62      0.63       615\n",
      "         1.0       0.97      0.97      0.97       301\n",
      "         2.0       0.99      0.99      0.99       617\n",
      "         3.0       1.00      1.00      1.00       604\n",
      "         4.0       0.70      0.71      0.70       735\n",
      "         5.0       0.69      0.70      0.70       721\n",
      "\n",
      "    accuracy                           0.81      3593\n",
      "   macro avg       0.83      0.83      0.83      3593\n",
      "weighted avg       0.81      0.81      0.81      3593\n",
      "\n",
      "DT混淆矩阵：[[379   0   0   0 123 113]\n",
      " [  2 292   1   0   0   6]\n",
      " [  0   1 612   0   0   4]\n",
      " [  0   0   0 604   0   0]\n",
      " [108   0   0   0 520 107]\n",
      " [101   8   4   0 100 508]]\n"
     ]
    }
   ],
   "source": [
    "file_name = 'models/dt.p'\n",
    "DecisionTree(train_x, train_y,test_x, test_y, file_name)"
   ],
   "metadata": {
    "collapsed": false
   }
  },
  {
   "cell_type": "code",
   "execution_count": 13,
   "outputs": [],
   "source": [],
   "metadata": {
    "collapsed": false
   }
  }
 ],
 "metadata": {
  "kernelspec": {
   "display_name": "Python 3",
   "language": "python",
   "name": "python3"
  },
  "language_info": {
   "codemirror_mode": {
    "name": "ipython",
    "version": 2
   },
   "file_extension": ".py",
   "mimetype": "text/x-python",
   "name": "python",
   "nbconvert_exporter": "python",
   "pygments_lexer": "ipython2",
   "version": "2.7.6"
  }
 },
 "nbformat": 4,
 "nbformat_minor": 0
}
